{
 "cells": [
  {
   "cell_type": "code",
   "execution_count": 1,
   "metadata": {},
   "outputs": [],
   "source": [
    "import numpy as np"
   ]
  },
  {
   "cell_type": "code",
   "execution_count": 2,
   "metadata": {},
   "outputs": [],
   "source": [
    "v1 = np.array([1,2,3,4,5,6,67])"
   ]
  },
  {
   "cell_type": "code",
   "execution_count": 3,
   "metadata": {},
   "outputs": [
    {
     "data": {
      "text/plain": [
       "array([ 1,  2,  3,  4,  5,  6, 67])"
      ]
     },
     "execution_count": 3,
     "metadata": {},
     "output_type": "execute_result"
    }
   ],
   "source": [
    "v1\n",
    "\n"
   ]
  },
  {
   "cell_type": "code",
   "execution_count": 4,
   "metadata": {},
   "outputs": [],
   "source": [
    "m1 = np.array([[1,2,3],[4,5,6],[7,8,9]])"
   ]
  },
  {
   "cell_type": "code",
   "execution_count": 5,
   "metadata": {},
   "outputs": [
    {
     "data": {
      "text/plain": [
       "array([[1, 2, 3],\n",
       "       [4, 5, 6],\n",
       "       [7, 8, 9]])"
      ]
     },
     "execution_count": 5,
     "metadata": {},
     "output_type": "execute_result"
    }
   ],
   "source": [
    "m1"
   ]
  },
  {
   "cell_type": "code",
   "execution_count": 8,
   "metadata": {},
   "outputs": [],
   "source": [
    "m2 = np.matrix([[1,2,3],[4,5,6]])"
   ]
  },
  {
   "cell_type": "code",
   "execution_count": 9,
   "metadata": {},
   "outputs": [
    {
     "data": {
      "text/plain": [
       "matrix([[1, 2, 3],\n",
       "        [4, 5, 6]])"
      ]
     },
     "execution_count": 9,
     "metadata": {},
     "output_type": "execute_result"
    }
   ],
   "source": [
    "m2"
   ]
  },
  {
   "cell_type": "code",
   "execution_count": 12,
   "metadata": {},
   "outputs": [],
   "source": [
    "t1 = np.array([ [[1,2,3],[4,5,6]],[[7,8,9],[10,11,12]] ])"
   ]
  },
  {
   "cell_type": "code",
   "execution_count": 13,
   "metadata": {},
   "outputs": [
    {
     "data": {
      "text/plain": [
       "array([[[ 1,  2,  3],\n",
       "        [ 4,  5,  6]],\n",
       "\n",
       "       [[ 7,  8,  9],\n",
       "        [10, 11, 12]]])"
      ]
     },
     "execution_count": 13,
     "metadata": {},
     "output_type": "execute_result"
    }
   ],
   "source": [
    "t1"
   ]
  },
  {
   "cell_type": "code",
   "execution_count": 14,
   "metadata": {},
   "outputs": [
    {
     "data": {
      "text/plain": [
       "((7,), (3, 3), (2, 3), (2, 2, 3))"
      ]
     },
     "execution_count": 14,
     "metadata": {},
     "output_type": "execute_result"
    }
   ],
   "source": [
    "v1.shape,m1.shape,m2.shape,t1.shape"
   ]
  },
  {
   "cell_type": "code",
   "execution_count": 15,
   "metadata": {},
   "outputs": [
    {
     "data": {
      "text/plain": [
       "((4, 3), (4, 3))"
      ]
     },
     "execution_count": 15,
     "metadata": {},
     "output_type": "execute_result"
    }
   ],
   "source": [
    "m3 = np.array([[1,1,1],[2,2,2],[3,3,3],[4,4,4]])\n",
    "m4 = np.array([[5,5,5],[6,6,6],[7,7,7],[8,8,8]])\n",
    "m3.shape,m4.shape"
   ]
  },
  {
   "cell_type": "code",
   "execution_count": 16,
   "metadata": {},
   "outputs": [],
   "source": [
    "m5 = m3+m4"
   ]
  },
  {
   "cell_type": "code",
   "execution_count": 17,
   "metadata": {},
   "outputs": [
    {
     "data": {
      "text/plain": [
       "array([[ 6,  6,  6],\n",
       "       [ 8,  8,  8],\n",
       "       [10, 10, 10],\n",
       "       [12, 12, 12]])"
      ]
     },
     "execution_count": 17,
     "metadata": {},
     "output_type": "execute_result"
    }
   ],
   "source": [
    "m5"
   ]
  },
  {
   "cell_type": "code",
   "execution_count": 18,
   "metadata": {},
   "outputs": [
    {
     "data": {
      "text/plain": [
       "array([[11, 11, 11],\n",
       "       [13, 13, 13],\n",
       "       [15, 15, 15],\n",
       "       [17, 17, 17]])"
      ]
     },
     "execution_count": 18,
     "metadata": {},
     "output_type": "execute_result"
    }
   ],
   "source": [
    "m5+5"
   ]
  },
  {
   "cell_type": "code",
   "execution_count": 19,
   "metadata": {},
   "outputs": [],
   "source": [
    "# Exercise 2.2"
   ]
  },
  {
   "cell_type": "code",
   "execution_count": 20,
   "metadata": {},
   "outputs": [
    {
     "data": {
      "text/plain": [
       "(4, 3)"
      ]
     },
     "execution_count": 20,
     "metadata": {},
     "output_type": "execute_result"
    }
   ],
   "source": [
    "m5.shape"
   ]
  },
  {
   "cell_type": "code",
   "execution_count": 21,
   "metadata": {},
   "outputs": [],
   "source": [
    "m6 = np.reshape(m5,[3,4])"
   ]
  },
  {
   "cell_type": "code",
   "execution_count": 22,
   "metadata": {},
   "outputs": [
    {
     "data": {
      "text/plain": [
       "array([[ 6,  6,  6],\n",
       "       [ 8,  8,  8],\n",
       "       [10, 10, 10],\n",
       "       [12, 12, 12]])"
      ]
     },
     "execution_count": 22,
     "metadata": {},
     "output_type": "execute_result"
    }
   ],
   "source": [
    "m5"
   ]
  },
  {
   "cell_type": "code",
   "execution_count": 23,
   "metadata": {},
   "outputs": [
    {
     "data": {
      "text/plain": [
       "array([[ 6,  6,  6,  8],\n",
       "       [ 8,  8, 10, 10],\n",
       "       [10, 12, 12, 12]])"
      ]
     },
     "execution_count": 23,
     "metadata": {},
     "output_type": "execute_result"
    }
   ],
   "source": [
    "m6"
   ]
  },
  {
   "cell_type": "code",
   "execution_count": 28,
   "metadata": {},
   "outputs": [
    {
     "data": {
      "text/plain": [
       "(array([[[ 6,  6,  6],\n",
       "         [ 8,  8,  8]],\n",
       " \n",
       "        [[10, 10, 10],\n",
       "         [12, 12, 12]]]), '\\n', (2, 2, 3))"
      ]
     },
     "execution_count": 28,
     "metadata": {},
     "output_type": "execute_result"
    }
   ],
   "source": [
    "np.reshape(m6,[2,2,3]),'\\n',np.reshape(m6,[2,2,3]).shape"
   ]
  },
  {
   "cell_type": "code",
   "execution_count": 29,
   "metadata": {},
   "outputs": [
    {
     "data": {
      "text/plain": [
       "array([ 6,  6,  6,  8,  8,  8, 10, 10, 10, 12, 12, 12])"
      ]
     },
     "execution_count": 29,
     "metadata": {},
     "output_type": "execute_result"
    }
   ],
   "source": [
    "np.reshape(m6,[12])"
   ]
  },
  {
   "cell_type": "code",
   "execution_count": 30,
   "metadata": {},
   "outputs": [],
   "source": [
    "m7 = np.matrix([1,2,3,4,5,6,7,8,9,10,11,12])"
   ]
  },
  {
   "cell_type": "code",
   "execution_count": 35,
   "metadata": {},
   "outputs": [
    {
     "data": {
      "text/plain": [
       "(matrix([[ 1,  2,  3],\n",
       "         [ 4,  5,  6],\n",
       "         [ 7,  8,  9],\n",
       "         [10, 11, 12]]), (4, 3))"
      ]
     },
     "execution_count": 35,
     "metadata": {},
     "output_type": "execute_result"
    }
   ],
   "source": [
    "m7 = np.reshape(m7,[4,3])\n",
    "m7,m7.shape"
   ]
  },
  {
   "cell_type": "code",
   "execution_count": 37,
   "metadata": {},
   "outputs": [
    {
     "data": {
      "text/plain": [
       "(matrix([[ 1,  4,  7, 10],\n",
       "         [ 2,  5,  8, 11],\n",
       "         [ 3,  6,  9, 12]]), (3, 4))"
      ]
     },
     "execution_count": 37,
     "metadata": {},
     "output_type": "execute_result"
    }
   ],
   "source": [
    "m8 = m7.T\n",
    "m8,m8.shape"
   ]
  },
  {
   "cell_type": "code",
   "execution_count": 38,
   "metadata": {},
   "outputs": [
    {
     "data": {
      "text/plain": [
       "matrix([[ True, False, False, False],\n",
       "        [False, False, False, False],\n",
       "        [False, False, False,  True]])"
      ]
     },
     "execution_count": 38,
     "metadata": {},
     "output_type": "execute_result"
    }
   ],
   "source": [
    "np.reshape(m7,[3,4])==m8"
   ]
  },
  {
   "cell_type": "code",
   "execution_count": 39,
   "metadata": {},
   "outputs": [],
   "source": [
    "#Ex 2.3"
   ]
  },
  {
   "cell_type": "code",
   "execution_count": 40,
   "metadata": {},
   "outputs": [
    {
     "data": {
      "text/plain": [
       "(matrix([[ 1,  2,  3],\n",
       "         [ 4,  5,  6],\n",
       "         [ 7,  8,  9],\n",
       "         [10, 11, 12]]), matrix([[ 2,  3,  4],\n",
       "         [ 5,  6,  7],\n",
       "         [ 8,  9, 10],\n",
       "         [11, 12, 13]]))"
      ]
     },
     "execution_count": 40,
     "metadata": {},
     "output_type": "execute_result"
    }
   ],
   "source": [
    "m9 = np.matrix([[1,2,3],[4,5,6],[7,8,9],[10,11,12]])\n",
    "m10 = m9+1\n",
    "m9,m10"
   ]
  },
  {
   "cell_type": "code",
   "execution_count": 41,
   "metadata": {},
   "outputs": [
    {
     "ename": "ValueError",
     "evalue": "shapes (4,3) and (4,3) not aligned: 3 (dim 1) != 4 (dim 0)",
     "output_type": "error",
     "traceback": [
      "\u001b[0;31m---------------------------------------------------------------------------\u001b[0m",
      "\u001b[0;31mValueError\u001b[0m                                Traceback (most recent call last)",
      "\u001b[0;32m<ipython-input-41-85c70bae9c50>\u001b[0m in \u001b[0;36m<module>\u001b[0;34m()\u001b[0m\n\u001b[0;32m----> 1\u001b[0;31m \u001b[0mm9\u001b[0m\u001b[0;34m.\u001b[0m\u001b[0mdot\u001b[0m\u001b[0;34m(\u001b[0m\u001b[0mm10\u001b[0m\u001b[0;34m)\u001b[0m\u001b[0;34m\u001b[0m\u001b[0;34m\u001b[0m\u001b[0m\n\u001b[0m",
      "\u001b[0;31mValueError\u001b[0m: shapes (4,3) and (4,3) not aligned: 3 (dim 1) != 4 (dim 0)"
     ]
    }
   ],
   "source": [
    "m9.dot(m10)"
   ]
  },
  {
   "cell_type": "code",
   "execution_count": 42,
   "metadata": {},
   "outputs": [
    {
     "data": {
      "text/plain": [
       "matrix([[188, 210, 232],\n",
       "        [214, 240, 266],\n",
       "        [240, 270, 300]])"
      ]
     },
     "execution_count": 42,
     "metadata": {},
     "output_type": "execute_result"
    }
   ],
   "source": [
    "m9.T.dot(m10)"
   ]
  },
  {
   "cell_type": "code",
   "execution_count": 43,
   "metadata": {},
   "outputs": [
    {
     "data": {
      "text/plain": [
       "matrix([[ 20,  47,  74, 101],\n",
       "        [ 38,  92, 146, 200],\n",
       "        [ 56, 137, 218, 299],\n",
       "        [ 74, 182, 290, 398]])"
      ]
     },
     "execution_count": 43,
     "metadata": {},
     "output_type": "execute_result"
    }
   ],
   "source": [
    "m10.dot(m9.T)"
   ]
  },
  {
   "cell_type": "code",
   "execution_count": 44,
   "metadata": {},
   "outputs": [
    {
     "data": {
      "text/plain": [
       "matrix([[ 80,  90, 100],\n",
       "        [184, 210, 236],\n",
       "        [288, 330, 372]])"
      ]
     },
     "execution_count": 44,
     "metadata": {},
     "output_type": "execute_result"
    }
   ],
   "source": [
    "np.reshape(m9,[3,4]).dot(m10)"
   ]
  },
  {
   "cell_type": "code",
   "execution_count": 47,
   "metadata": {},
   "outputs": [
    {
     "data": {
      "text/plain": [
       "matrix([[ 44,  50,  56,  62],\n",
       "        [ 98, 113, 128, 143],\n",
       "        [152, 176, 200, 224],\n",
       "        [206, 239, 272, 305]])"
      ]
     },
     "execution_count": 47,
     "metadata": {},
     "output_type": "execute_result"
    }
   ],
   "source": [
    "m9.dot(np.reshape(m10,[3,4]))"
   ]
  },
  {
   "cell_type": "code",
   "execution_count": 50,
   "metadata": {},
   "outputs": [
    {
     "data": {
      "text/plain": [
       "array([[[1, 2],\n",
       "        [3, 4]],\n",
       "\n",
       "       [[5, 6],\n",
       "        [7, 8]]])"
      ]
     },
     "execution_count": 50,
     "metadata": {},
     "output_type": "execute_result"
    }
   ],
   "source": [
    "#Checking multiplication of 3D tensor\n",
    "t2 = np.array([ [[1,2],[3,4]], [[5,6],[7,8]] ])\n",
    "t2"
   ]
  },
  {
   "cell_type": "code",
   "execution_count": 51,
   "metadata": {},
   "outputs": [
    {
     "data": {
      "text/plain": [
       "(2, 2, 2)"
      ]
     },
     "execution_count": 51,
     "metadata": {},
     "output_type": "execute_result"
    }
   ],
   "source": [
    "t2.shape"
   ]
  },
  {
   "cell_type": "code",
   "execution_count": 52,
   "metadata": {},
   "outputs": [],
   "source": [
    "t3 = t2+2"
   ]
  },
  {
   "cell_type": "code",
   "execution_count": 53,
   "metadata": {},
   "outputs": [
    {
     "data": {
      "text/plain": [
       "(array([[[ 3,  4],\n",
       "         [ 5,  6]],\n",
       " \n",
       "        [[ 7,  8],\n",
       "         [ 9, 10]]]), (2, 2, 2))"
      ]
     },
     "execution_count": 53,
     "metadata": {},
     "output_type": "execute_result"
    }
   ],
   "source": [
    "t3, t3.shape"
   ]
  },
  {
   "cell_type": "code",
   "execution_count": 54,
   "metadata": {},
   "outputs": [
    {
     "data": {
      "text/plain": [
       "array([[[[ 13,  16],\n",
       "         [ 25,  28]],\n",
       "\n",
       "        [[ 29,  36],\n",
       "         [ 57,  64]]],\n",
       "\n",
       "\n",
       "       [[[ 45,  56],\n",
       "         [ 89, 100]],\n",
       "\n",
       "        [[ 61,  76],\n",
       "         [121, 136]]]])"
      ]
     },
     "execution_count": 54,
     "metadata": {},
     "output_type": "execute_result"
    }
   ],
   "source": [
    "t2.dot(t3)"
   ]
  },
  {
   "cell_type": "code",
   "execution_count": 59,
   "metadata": {},
   "outputs": [
    {
     "data": {
      "text/plain": [
       "(array([[[1, 2],\n",
       "         [3, 4],\n",
       "         [3, 4]],\n",
       " \n",
       "        [[5, 6],\n",
       "         [7, 8],\n",
       "         [7, 8]],\n",
       " \n",
       "        [[5, 6],\n",
       "         [7, 8],\n",
       "         [7, 8]]]), (3, 3, 2))"
      ]
     },
     "execution_count": 59,
     "metadata": {},
     "output_type": "execute_result"
    }
   ],
   "source": [
    "t4 = np.array([ [[1,2],[3,4],[3,4]], [[5,6],[7,8],[7,8]] , [[5,6],[7,8],[7,8]] ])\n",
    "t4, t4.shape"
   ]
  },
  {
   "cell_type": "code",
   "execution_count": 60,
   "metadata": {},
   "outputs": [
    {
     "ename": "ValueError",
     "evalue": "shapes (2,2,2) and (3,3,2) not aligned: 2 (dim 2) != 3 (dim 1)",
     "output_type": "error",
     "traceback": [
      "\u001b[0;31m---------------------------------------------------------------------------\u001b[0m",
      "\u001b[0;31mValueError\u001b[0m                                Traceback (most recent call last)",
      "\u001b[0;32m<ipython-input-60-aca7f02113a5>\u001b[0m in \u001b[0;36m<module>\u001b[0;34m()\u001b[0m\n\u001b[0;32m----> 1\u001b[0;31m \u001b[0mt2\u001b[0m\u001b[0;34m.\u001b[0m\u001b[0mdot\u001b[0m\u001b[0;34m(\u001b[0m\u001b[0mt4\u001b[0m\u001b[0;34m)\u001b[0m\u001b[0;34m\u001b[0m\u001b[0;34m\u001b[0m\u001b[0m\n\u001b[0m",
      "\u001b[0;31mValueError\u001b[0m: shapes (2,2,2) and (3,3,2) not aligned: 2 (dim 2) != 3 (dim 1)"
     ]
    }
   ],
   "source": [
    "t2.dot(t4)"
   ]
  },
  {
   "cell_type": "code",
   "execution_count": 63,
   "metadata": {},
   "outputs": [
    {
     "data": {
      "text/plain": [
       "array([[[[  7,  10],\n",
       "         [ 19,  22]],\n",
       "\n",
       "        [[ 15,  22],\n",
       "         [ 43,  50]],\n",
       "\n",
       "        [[ 15,  22],\n",
       "         [ 43,  50]]],\n",
       "\n",
       "\n",
       "       [[[ 23,  34],\n",
       "         [ 67,  78]],\n",
       "\n",
       "        [[ 31,  46],\n",
       "         [ 91, 106]],\n",
       "\n",
       "        [[ 31,  46],\n",
       "         [ 91, 106]]],\n",
       "\n",
       "\n",
       "       [[[ 23,  34],\n",
       "         [ 67,  78]],\n",
       "\n",
       "        [[ 31,  46],\n",
       "         [ 91, 106]],\n",
       "\n",
       "        [[ 31,  46],\n",
       "         [ 91, 106]]]])"
      ]
     },
     "execution_count": 63,
     "metadata": {},
     "output_type": "execute_result"
    }
   ],
   "source": [
    "t4.dot(t2)"
   ]
  },
  {
   "cell_type": "code",
   "execution_count": 61,
   "metadata": {},
   "outputs": [
    {
     "ename": "ValueError",
     "evalue": "shapes (2,2,2) and (3,3,2) not aligned: 2 (dim 2) != 3 (dim 1)",
     "output_type": "error",
     "traceback": [
      "\u001b[0;31m---------------------------------------------------------------------------\u001b[0m",
      "\u001b[0;31mValueError\u001b[0m                                Traceback (most recent call last)",
      "\u001b[0;32m<ipython-input-61-3720d4eb47a5>\u001b[0m in \u001b[0;36m<module>\u001b[0;34m()\u001b[0m\n\u001b[0;32m----> 1\u001b[0;31m \u001b[0mt3\u001b[0m\u001b[0;34m.\u001b[0m\u001b[0mdot\u001b[0m\u001b[0;34m(\u001b[0m\u001b[0mt4\u001b[0m\u001b[0;34m)\u001b[0m\u001b[0;34m\u001b[0m\u001b[0;34m\u001b[0m\u001b[0m\n\u001b[0m",
      "\u001b[0;31mValueError\u001b[0m: shapes (2,2,2) and (3,3,2) not aligned: 2 (dim 2) != 3 (dim 1)"
     ]
    }
   ],
   "source": [
    "t3.dot(t4)"
   ]
  },
  {
   "cell_type": "code",
   "execution_count": 64,
   "metadata": {},
   "outputs": [
    {
     "data": {
      "text/plain": [
       "(3, 3, 2, 2)"
      ]
     },
     "execution_count": 64,
     "metadata": {},
     "output_type": "execute_result"
    }
   ],
   "source": [
    "t4.dot(t2).shape"
   ]
  },
  {
   "cell_type": "code",
   "execution_count": 65,
   "metadata": {},
   "outputs": [],
   "source": [
    "#Activity"
   ]
  },
  {
   "cell_type": "code",
   "execution_count": 66,
   "metadata": {},
   "outputs": [],
   "source": [
    "import pandas as pd\n",
    "%matplotlib inline\n",
    "\n"
   ]
  },
  {
   "cell_type": "code",
   "execution_count": 69,
   "metadata": {},
   "outputs": [],
   "source": [
    "data = pd.read_csv('https://archive.ics.uci.edu/ml/machine-learning-databases/00468/online_shoppers_intention.csv')\n"
   ]
  },
  {
   "cell_type": "code",
   "execution_count": 70,
   "metadata": {},
   "outputs": [
    {
     "name": "stdout",
     "output_type": "stream",
     "text": [
      "dropping col VisitorType_Other\n",
      "dropping col Month_Feb\n",
      "dropping col OperatingSystems_5\n",
      "dropping col Browser_9\n",
      "dropping col TrafficType_12\n",
      "dropping col Region_5\n"
     ]
    },
    {
     "data": {
      "text/plain": [
       "((9864, 68), (2466, 68), (9864,), (2466,))"
      ]
     },
     "execution_count": 70,
     "metadata": {},
     "output_type": "execute_result"
    }
   ],
   "source": [
    "#From chap1, we need to do:\n",
    "# get X,Y\n",
    "# Convert weekend to binary\n",
    "# one hot visitortype,month,os, browser,traffictype,region\n",
    "# train test split\n",
    "\n",
    "X = data.drop('Revenue',axis=1)\n",
    "Y = data.Revenue\n",
    "\n",
    "X['is_weekend'] = X.Weekend.apply(lambda element:1 if element== True else 0)\n",
    "X.drop('Weekend',axis=1,inplace=True)\n",
    "\n",
    "def onehotcolumn(dataset,columnname):\n",
    "    dummies = pd.get_dummies(dataset[columnname],prefix=columnname)\n",
    "    colToDrop = dummies.mean().idxmin()\n",
    "    print('dropping col',colToDrop)\n",
    "    dummies.drop(colToDrop,axis=1,inplace=True)\n",
    "    dataset = pd.concat([dataset,dummies],axis=1)\n",
    "    dataset.drop(columnname,axis=1,inplace=True)\n",
    "    return dataset\n",
    "    \n",
    "X=onehotcolumn(X,'VisitorType')\n",
    "X=onehotcolumn(X,'Month')\n",
    "X=onehotcolumn(X,'OperatingSystems')\n",
    "X=onehotcolumn(X,'Browser')\n",
    "X=onehotcolumn(X,'TrafficType')\n",
    "X=onehotcolumn(X,'Region')\n",
    "\n",
    "from sklearn.model_selection import train_test_split\n",
    "X_train,X_test,y_train,y_test = train_test_split(X,Y,test_size=0.2)\n",
    "X_train.shape,X_test.shape,y_train.shape,y_test.shape\n"
   ]
  },
  {
   "cell_type": "code",
   "execution_count": 78,
   "metadata": {},
   "outputs": [],
   "source": [
    "from tensorflow.keras.models import Sequential\n",
    "from tensorflow.keras.layers import Dense,Activation\n"
   ]
  },
  {
   "cell_type": "code",
   "execution_count": 79,
   "metadata": {},
   "outputs": [],
   "source": [
    "model = Sequential()"
   ]
  },
  {
   "cell_type": "code",
   "execution_count": 81,
   "metadata": {},
   "outputs": [],
   "source": [
    "model.add(Dense(1,input_dim=68))\n",
    "model.add(Activation('tanh'))\n",
    "model.compile(optimizer='adam',loss='binary_crossentropy',metrics=['accuracy'])\n"
   ]
  },
  {
   "cell_type": "code",
   "execution_count": 83,
   "metadata": {},
   "outputs": [
    {
     "name": "stdout",
     "output_type": "stream",
     "text": [
      "Epoch 1/10\n",
      "309/309 [==============================] - 0s 1ms/step - loss: 2.2112 - accuracy: 0.8567 - val_loss: 3.0900 - val_accuracy: 0.7997\n",
      "Epoch 2/10\n",
      "309/309 [==============================] - 0s 1ms/step - loss: 2.2112 - accuracy: 0.8567 - val_loss: 3.0900 - val_accuracy: 0.7997\n",
      "Epoch 3/10\n",
      "309/309 [==============================] - 0s 1ms/step - loss: 2.2112 - accuracy: 0.8567 - val_loss: 3.0900 - val_accuracy: 0.7997\n",
      "Epoch 4/10\n",
      "309/309 [==============================] - 0s 1ms/step - loss: 2.2112 - accuracy: 0.8567 - val_loss: 3.0900 - val_accuracy: 0.7997\n",
      "Epoch 5/10\n",
      "309/309 [==============================] - 0s 1ms/step - loss: 2.2112 - accuracy: 0.8567 - val_loss: 3.0900 - val_accuracy: 0.7997\n",
      "Epoch 6/10\n",
      "309/309 [==============================] - 0s 1ms/step - loss: 2.2112 - accuracy: 0.8567 - val_loss: 3.0900 - val_accuracy: 0.7997\n",
      "Epoch 7/10\n",
      "309/309 [==============================] - 0s 1ms/step - loss: 2.2112 - accuracy: 0.8567 - val_loss: 3.0900 - val_accuracy: 0.7997\n",
      "Epoch 8/10\n",
      "309/309 [==============================] - 0s 1ms/step - loss: 2.2112 - accuracy: 0.8567 - val_loss: 3.0900 - val_accuracy: 0.7997\n",
      "Epoch 9/10\n",
      "309/309 [==============================] - 0s 1ms/step - loss: 2.2112 - accuracy: 0.8567 - val_loss: 3.0900 - val_accuracy: 0.7997\n",
      "Epoch 10/10\n",
      "309/309 [==============================] - 0s 1ms/step - loss: 2.2112 - accuracy: 0.8567 - val_loss: 3.0900 - val_accuracy: 0.7997\n"
     ]
    }
   ],
   "source": [
    "history = model.fit(x=X,y=Y,epochs=10,batch_size=32,validation_split=0.2,shuffle=False)"
   ]
  },
  {
   "cell_type": "code",
   "execution_count": null,
   "metadata": {},
   "outputs": [],
   "source": []
  }
 ],
 "metadata": {
  "kernelspec": {
   "display_name": "Python 3",
   "language": "python",
   "name": "python3"
  },
  "language_info": {
   "codemirror_mode": {
    "name": "ipython",
    "version": 3
   },
   "file_extension": ".py",
   "mimetype": "text/x-python",
   "name": "python",
   "nbconvert_exporter": "python",
   "pygments_lexer": "ipython3",
   "version": "3.7.5"
  }
 },
 "nbformat": 4,
 "nbformat_minor": 2
}
